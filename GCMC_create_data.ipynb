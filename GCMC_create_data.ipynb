{
 "cells": [
  {
   "cell_type": "markdown",
   "metadata": {
    "heading_collapsed": true
   },
   "source": [
    "# Import script as a module"
   ]
  },
  {
   "cell_type": "code",
   "execution_count": 1,
   "metadata": {
    "ExecuteTime": {
     "end_time": "2019-08-12T17:43:11.162669Z",
     "start_time": "2019-08-12T17:43:10.516794Z"
    },
    "hidden": true
   },
   "outputs": [],
   "source": [
    "# Imports the data utils script\n",
    "from GCMC_data_utils import *"
   ]
  },
  {
   "cell_type": "markdown",
   "metadata": {
    "heading_collapsed": true
   },
   "source": [
    "# Create and export the data"
   ]
  },
  {
   "cell_type": "markdown",
   "metadata": {
    "hidden": true
   },
   "source": [
    "## Exported data is stored in D:\\Python\\Thesis\\gcmc_ready_data"
   ]
  },
  {
   "cell_type": "code",
   "execution_count": 2,
   "metadata": {
    "ExecuteTime": {
     "end_time": "2019-08-12T17:43:42.766290Z",
     "start_time": "2019-08-12T17:43:11.164074Z"
    },
    "code_folding": [],
    "hidden": true,
    "scrolled": true
   },
   "outputs": [
    {
     "name": "stdout",
     "output_type": "stream",
     "text": [
      "Unpivoting data...\n",
      "Storing indices...\n",
      "Creating graph data...\n",
      "\n",
      "Contract indices:\n",
      "                 variable  idx\n",
      "0  2UAe4gFWZC8u7aGmuBZent    0\n",
      "1  2DXXaEqTpZdo3JtJ5iv5C0    1\n",
      "2  3HQczcp3cmsTRWbi2gzrVy    2\n",
      "3  2J2svQTv42lUoMGr8Cm1sG    3\n",
      "4  7n0hejNDOXJ09sNShGubQA    4\n",
      "\n",
      "Clause indices:\n",
      "                           value  idx\n",
      "0      make exercise convertible    0\n",
      "1              date final public    1\n",
      "2  subject agreement undersigned    2\n",
      "3       transfer agreement shall    3\n",
      "4         shares issue hereunder    4\n",
      "\n",
      "Data for graph model:\n",
      "   contract_idx  clause_idx  rating\n",
      "0             0           0       1\n",
      "1             0           1       1\n",
      "2             0           2       1\n",
      "3             0           3       1\n",
      "4             0           4       0\n",
      "data4.pickle has been exported to: D:\\Python\\Thesis\\gcmc_ready_data\\\n",
      "contracts_ref4.pickle has been exported to: D:\\Python\\Thesis\\gcmc_ready_data\\\n",
      "clauses_ref4.pickle has been exported to: D:\\Python\\Thesis\\gcmc_ready_data\\\n",
      "Time elapsed in mins:  0.5226733889166667\n"
     ]
    }
   ],
   "source": [
    "# Create data sets so that we can load up the files and further process it\n",
    "\n",
    "ratings, contracts, clauses = create_data(\"D:\\Python\\Thesis\\data_samples\\\\summ_sample_4.0.pickle\", \n",
    "                                     export = True,\n",
    "                                     name1 = \"data4.pickle\",\n",
    "                                     name2 = \"contracts_ref4.pickle\",\n",
    "                                     name3 = \"clauses_ref4.pickle\",\n",
    "                                     verbose = True)"
   ]
  },
  {
   "cell_type": "markdown",
   "metadata": {
    "heading_collapsed": true
   },
   "source": [
    "# Get features and export to .npy"
   ]
  },
  {
   "cell_type": "code",
   "execution_count": 3,
   "metadata": {
    "ExecuteTime": {
     "end_time": "2019-08-12T17:43:49.263861Z",
     "start_time": "2019-08-12T17:43:42.768246Z"
    },
    "hidden": true
   },
   "outputs": [
    {
     "name": "stdout",
     "output_type": "stream",
     "text": [
      "Normalizing feature vectors...\n",
      "Normalizing complete!\n",
      "(1967, 21355)\n",
      "Features and dim-dict have been exported to: D:\\Python\\Thesis\\gcmc_ready_data\\\n",
      "Features exported are .npz use scipy to load\n",
      "Time elapsed in mins:  0.10656432711666675\n"
     ]
    }
   ],
   "source": [
    "_,_,_,_, \\\n",
    "_,_,_,_ = get_features(location = \"D:\\Python\\Thesis\\gcmc_ready_data\\\\data4.pickle\", \n",
    "                       export = True, \n",
    "                       exp_loc = \"D:\\Python\\Thesis\\gcmc_ready_data\\\\\",\n",
    "                       frac = 4)"
   ]
  },
  {
   "cell_type": "markdown",
   "metadata": {
    "hidden": true
   },
   "source": [
    "Features exported are in sparse format use .toarray() or np.array() to convert to array"
   ]
  },
  {
   "cell_type": "markdown",
   "metadata": {
    "heading_collapsed": true
   },
   "source": [
    "# Randomise data, create training, validation and testing splits and export"
   ]
  },
  {
   "cell_type": "code",
   "execution_count": 4,
   "metadata": {
    "ExecuteTime": {
     "end_time": "2019-08-12T17:44:01.102865Z",
     "start_time": "2019-08-12T17:43:49.265349Z"
    },
    "hidden": true
   },
   "outputs": [
    {
     "name": "stdout",
     "output_type": "stream",
     "text": [
      "Training, validation and testing splits have been exported to: D:\\Python\\Thesis\\gcmc_ready_data\\\n"
     ]
    }
   ],
   "source": [
    "train, val, test = create_trainvaltest_split(data = ratings, \n",
    "                          train_p = 0.85, \n",
    "                          val_p = 0.05, \n",
    "                          test_p = 0.1, \n",
    "                          export = True,\n",
    "                          location = \"D:\\Python\\Thesis\\gcmc_ready_data\\\\\",\n",
    "                          fracc = 4\n",
    "                        )"
   ]
  },
  {
   "cell_type": "markdown",
   "metadata": {},
   "source": [
    "# Create the data set in tensor format ready to be fed into the NN\n",
    "\n",
    "This part is the longest part"
   ]
  },
  {
   "cell_type": "code",
   "execution_count": 5,
   "metadata": {
    "ExecuteTime": {
     "end_time": "2019-08-12T17:44:01.106312Z",
     "start_time": "2019-08-12T17:44:01.103831Z"
    }
   },
   "outputs": [],
   "source": [
    "# Get train, val, test splits from create_trainvaltest_split()\n",
    "#train = pd.read_pickle(\"D:\\Python\\Thesis\\gcmc_ready_data\\\\train85.0.pickle\")\n",
    "#val = pd.read_pickle(\"D:\\Python\\Thesis\\gcmc_ready_data\\\\val5.0.pickle\")\n",
    "#test = pd.read_pickle(\"D:\\Python\\Thesis\\gcmc_ready_data\\\\test10.0.pickle\")"
   ]
  },
  {
   "cell_type": "code",
   "execution_count": 6,
   "metadata": {
    "ExecuteTime": {
     "end_time": "2019-08-12T18:52:25.032132Z",
     "start_time": "2019-08-12T17:44:01.107801Z"
    }
   },
   "outputs": [
    {
     "name": "stdout",
     "output_type": "stream",
     "text": [
      "Getting user and item counts...\n",
      "Converting to tensor object...\n"
     ]
    },
    {
     "name": "stderr",
     "output_type": "stream",
     "text": [
      "Filling in: 32416392it [56:58, 9481.30it/s]                                                                 | 0/3 [00:00<?, ?it/s]\n",
      "Filling in: 1906846it [03:37, 8761.31it/s]██████████████▋                                       | 1/3 [57:01<1:54:03, 3421.52s/it]\n",
      "Filling in: 3813694it [07:40, 8290.23it/s]██████████████████████████████████▎                   | 2/3 [1:00:41<41:00, 2460.95s/it]\n",
      "Creating tensor for each split: 100%|███████████████████████████████████████████████████████████| 3/3 [1:08:23<00:00, 1861.46s/it]\n"
     ]
    },
    {
     "name": "stdout",
     "output_type": "stream",
     "text": [
      "Tensors exported to: D:\\Python\\Thesis\\gcmc_ready_data\\\n",
      "Time elapsed in mins:  68.39743573301666\n"
     ]
    }
   ],
   "source": [
    "tensor_graph(r_train = train, \n",
    "             r_val = val, \n",
    "             r_test = test, \n",
    "             exp_loc = 'D:\\Python\\Thesis\\gcmc_ready_data\\\\',\n",
    "             frac = 4\n",
    "            )"
   ]
  },
  {
   "cell_type": "code",
   "execution_count": null,
   "metadata": {},
   "outputs": [],
   "source": []
  }
 ],
 "metadata": {
  "kernelspec": {
   "display_name": "Python 3",
   "language": "python",
   "name": "python3"
  },
  "language_info": {
   "codemirror_mode": {
    "name": "ipython",
    "version": 3
   },
   "file_extension": ".py",
   "mimetype": "text/x-python",
   "name": "python",
   "nbconvert_exporter": "python",
   "pygments_lexer": "ipython3",
   "version": "3.7.4"
  }
 },
 "nbformat": 4,
 "nbformat_minor": 2
}
